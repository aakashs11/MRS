{
 "cells": [
  {
   "cell_type": "code",
   "execution_count": 1,
   "metadata": {},
   "outputs": [],
   "source": [
    "from surprise import SVDpp\n",
    "from surprise import SVD\n",
    "from surprise import Dataset\n",
    "from surprise import Reader\n",
    "from surprise import accuracy\n",
    "from surprise.model_selection import train_test_split\n",
    "from surprise.model_selection import GridSearchCV\n",
    "from surprise.model_selection import cross_validate"
   ]
  },
  {
   "cell_type": "code",
   "execution_count": 2,
   "metadata": {},
   "outputs": [],
   "source": [
    "import pandas as pd\n",
    "df=pd.read_csv(\"C:\\\\Users\\\\Aakash\\\\Desktop\\\\Projects\\\\ml-100k\\\\u.data\")"
   ]
  },
  {
   "cell_type": "code",
   "execution_count": 3,
   "metadata": {},
   "outputs": [
    {
     "data": {
      "text/html": [
       "<div>\n",
       "<style scoped>\n",
       "    .dataframe tbody tr th:only-of-type {\n",
       "        vertical-align: middle;\n",
       "    }\n",
       "\n",
       "    .dataframe tbody tr th {\n",
       "        vertical-align: top;\n",
       "    }\n",
       "\n",
       "    .dataframe thead th {\n",
       "        text-align: right;\n",
       "    }\n",
       "</style>\n",
       "<table border=\"1\" class=\"dataframe\">\n",
       "  <thead>\n",
       "    <tr style=\"text-align: right;\">\n",
       "      <th></th>\n",
       "      <th>196\\t242\\t3\\t881250949</th>\n",
       "    </tr>\n",
       "  </thead>\n",
       "  <tbody>\n",
       "    <tr>\n",
       "      <th>0</th>\n",
       "      <td>186\\t302\\t3\\t891717742</td>\n",
       "    </tr>\n",
       "    <tr>\n",
       "      <th>1</th>\n",
       "      <td>22\\t377\\t1\\t878887116</td>\n",
       "    </tr>\n",
       "    <tr>\n",
       "      <th>2</th>\n",
       "      <td>244\\t51\\t2\\t880606923</td>\n",
       "    </tr>\n",
       "    <tr>\n",
       "      <th>3</th>\n",
       "      <td>166\\t346\\t1\\t886397596</td>\n",
       "    </tr>\n",
       "    <tr>\n",
       "      <th>4</th>\n",
       "      <td>298\\t474\\t4\\t884182806</td>\n",
       "    </tr>\n",
       "  </tbody>\n",
       "</table>\n",
       "</div>"
      ],
      "text/plain": [
       "   196\\t242\\t3\\t881250949\n",
       "0  186\\t302\\t3\\t891717742\n",
       "1   22\\t377\\t1\\t878887116\n",
       "2   244\\t51\\t2\\t880606923\n",
       "3  166\\t346\\t1\\t886397596\n",
       "4  298\\t474\\t4\\t884182806"
      ]
     },
     "execution_count": 3,
     "metadata": {},
     "output_type": "execute_result"
    }
   ],
   "source": [
    "df.head() #FORMAT::::USER ITEM READING TIMESTAMP"
   ]
  },
  {
   "cell_type": "code",
   "execution_count": 4,
   "metadata": {},
   "outputs": [
    {
     "name": "stdout",
     "output_type": "stream",
     "text": [
      "RMSE: 1.1318\n",
      "RMSE: 0.9569\n",
      "RMSE: 0.9453\n",
      "RMSE: 0.9387\n",
      "RMSE: 0.9333\n",
      "RMSE: 0.9261\n",
      "RMSE: 0.9213\n",
      "RMSE: 0.9173\n",
      "RMSE: 0.9120\n",
      "RMSE: 0.9111\n",
      "RMSE: 0.9095\n",
      "RMSE: 0.9072\n",
      "RMSE: 0.9076\n",
      "RMSE: 0.9060\n",
      "RMSE: 0.9043\n",
      "RMSE: 0.9055\n",
      "RMSE: 0.9048\n",
      "RMSE: 0.9045\n",
      "RMSE: 0.9036\n",
      "RMSE: 0.9032\n"
     ]
    }
   ],
   "source": [
    "# Use movielens-100K\n",
    "reader = Reader(line_format='user item rating timestamp', sep='\\t')\n",
    "data = Dataset.load_from_file(\"C:\\\\Users\\\\Aakash\\\\Desktop\\\\Projects\\\\ml-100k\\\\u.data\",reader=reader)\n",
    "\n",
    "# data = Dataset.load_builtin('ml-100k')\n",
    "trainset, testset = train_test_split(data, test_size=.15)\n",
    "\n",
    "# ----- SVD ----- # \n",
    "\n",
    "rmse_dict = {}\n",
    "for i in range (0,100,5):\n",
    "    algo = SVD(n_factors=160, n_epochs=int(i), lr_all=0.005, reg_all=0.1) # Setting up the SVD algorithm using hyperparameters.\n",
    "    algo.fit(trainset)\n",
    "    test_pred = algo.test(testset)\n",
    "    rmse_dict[i] = accuracy.rmse(test_pred, verbose=True)\n",
    "    \n",
    "# print(\"SVD : Test Set\")\n",
    "# accuracy.rmse(test_pred, verbose=True)"
   ]
  },
  {
   "cell_type": "code",
   "execution_count": 5,
   "metadata": {},
   "outputs": [
    {
     "name": "stdout",
     "output_type": "stream",
     "text": [
      "Number of items 1682\n",
      "Number of users 943\n",
      "Number of ratings 100000\n",
      "sparsity of data is 0.9369533063577546\n"
     ]
    }
   ],
   "source": [
    "print(\"Number of items %s\"%(data.build_full_trainset().n_items)) # number of rows\n",
    "print(\"Number of users %s\"%(data.build_full_trainset().n_users)) # number of columns\n",
    "print(\"Number of ratings %s\"%(data.build_full_trainset().n_ratings)) # non empty cells in the utility matrix\n",
    "sparsity  = 1-((data.build_full_trainset().n_ratings)/(data.build_full_trainset().n_items*data.build_full_trainset().n_users))\n",
    "print(\"sparsity of data is %s\"%(sparsity))"
   ]
  },
  {
   "cell_type": "code",
   "execution_count": 6,
   "metadata": {},
   "outputs": [
    {
     "name": "stdout",
     "output_type": "stream",
     "text": [
      "RMSE: 0.9032\n"
     ]
    }
   ],
   "source": [
    "from surprise.model_selection import GridSearchCV\n",
    "\n",
    "param_grid = {'n_factors':[50,100,150],'n_epochs':[20,30],  'lr_all':[0.005,0.01],'reg_all':[0.02,0.1]}\n",
    "\n",
    "gs = GridSearchCV(SVD, param_grid, measures=['rmse'], cv=3)\n",
    "gs.fit(data)\n",
    "params = gs.best_params['rmse']\n",
    "svdtuned = SVD(n_factors=params['n_factors'], n_epochs=params['n_epochs'],lr_all=params['lr_all'], reg_all=params['reg_all'])\n",
    "svdtuned.fit(trainset)\n",
    "test_pred = algo.test(testset)\n",
    "rmse_dict[i] = accuracy.rmse(test_pred, verbose=True)                                                                                                                  \n",
    "                                                                                                                  "
   ]
  },
  {
   "cell_type": "markdown",
   "metadata": {},
   "source": [
    "## As seen above Gridsearchcv does hyperparameter optimisation better than manual tuning"
   ]
  },
  {
   "cell_type": "code",
   "execution_count": 7,
   "metadata": {},
   "outputs": [
    {
     "data": {
      "image/png": "[encoded data removed]",
      "text/plain": [
       "<Figure size 432x288 with 1 Axes>"
      ]
     },
     "metadata": {},
     "output_type": "display_data"
    }
   ],
   "source": [
    "import matplotlib.pylab as plt\n",
    "from matplotlib import style\n",
    "style.use('dark_background')\n",
    "plt.xlabel('Epochs')\n",
    "plt.ylabel('RMSE')\n",
    "plt.title(\"RMSE Plots\")\n",
    "\n",
    "\n",
    "lists = sorted(rmse_dict.items()) # sorted by key, return a list of tuples\n",
    "x, y = zip(*lists) # unpack a list of pairs into two tuples\n",
    "\n",
    "\n",
    "plt.plot(x, y)\n",
    "\n",
    "plt.legend(['CF'], loc='upper left')\n",
    "plt.show()"
   ]
  },
  {
   "cell_type": "code",
   "execution_count": 8,
   "metadata": {},
   "outputs": [],
   "source": [
    "from surprise import KNNBasic\n",
    "from surprise import Dataset\n",
    "from surprise import Reader\n",
    "import os\n",
    "from surprise import NMF\n",
    "\n",
    "#------------------------load data from a file\n",
    "file_path = os.path.expanduser('C:\\\\Users\\\\Aakash\\\\Desktop\\\\Projects\\\\ml-100k\\\\u.data')\n",
    "reader = Reader(line_format='user item rating timestamp', sep='\\t')\n",
    "data = Dataset.load_from_file(file_path, reader=reader)\n"
   ]
  },
  {
   "cell_type": "code",
   "execution_count": 9,
   "metadata": {},
   "outputs": [],
   "source": [
    "from surprise import SVD\n",
    "from surprise.model_selection import cross_validate\n",
    "import os"
   ]
  },
  {
   "cell_type": "code",
   "execution_count": 10,
   "metadata": {},
   "outputs": [
    {
     "name": "stdout",
     "output_type": "stream",
     "text": [
      "\n",
      "---------------SVD result-------------\n",
      "Evaluating RMSE, MAE of algorithm SVD on 5 split(s).\n",
      "\n",
      "                  Fold 1  Fold 2  Fold 3  Fold 4  Fold 5  Mean    Std     \n",
      "RMSE (testset)    0.9398  0.9410  0.9288  0.9314  0.9378  0.9358  0.0048  \n",
      "MAE (testset)     0.7414  0.7427  0.7333  0.7354  0.7366  0.7379  0.0036  \n",
      "Fit time          3.72    3.69    3.55    3.64    3.71    3.66    0.06    \n",
      "Test time         0.11    0.14    0.10    0.14    0.10    0.12    0.02    \n",
      "\n",
      "---------------PMF result--------------\n",
      "Evaluating RMSE, MAE of algorithm SVD on 5 split(s).\n",
      "\n",
      "                  Fold 1  Fold 2  Fold 3  Fold 4  Fold 5  Mean    Std     \n",
      "RMSE (testset)    0.9493  0.9512  0.9401  0.9493  0.9517  0.9483  0.0042  \n",
      "MAE (testset)     0.7469  0.7482  0.7421  0.7472  0.7512  0.7471  0.0029  \n",
      "Fit time          3.65    3.61    3.56    3.70    3.55    3.61    0.06    \n",
      "Test time         0.12    0.12    0.10    0.12    0.09    0.11    0.01    \n",
      "\n",
      "15--Neighboors--User Based Collaborative Filtering algorithm result\n",
      "Computing the msd similarity matrix...\n",
      "Done computing similarity matrix.\n",
      "Computing the msd similarity matrix...\n",
      "Done computing similarity matrix.\n",
      "Computing the msd similarity matrix...\n",
      "Done computing similarity matrix.\n",
      "Computing the msd similarity matrix...\n",
      "Done computing similarity matrix.\n",
      "Computing the msd similarity matrix...\n",
      "Done computing similarity matrix.\n",
      "Evaluating RMSE, MAE of algorithm KNNBasic on 5 split(s).\n",
      "\n",
      "                  Fold 1  Fold 2  Fold 3  Fold 4  Fold 5  Mean    Std     \n",
      "RMSE (testset)    0.9784  0.9879  0.9901  0.9889  0.9902  0.9871  0.0044  \n",
      "MAE (testset)     0.7702  0.7807  0.7790  0.7802  0.7807  0.7781  0.0040  \n",
      "Fit time          0.45    0.39    0.39    0.38    0.38    0.40    0.03    \n",
      "Test time         1.84    1.66    1.64    1.69    1.67    1.70    0.07    \n"
     ]
    },
    {
     "data": {
      "text/plain": [
       "{'test_rmse': array([0.97840783, 0.98793174, 0.9901446 , 0.98894234, 0.99018408]),\n",
       " 'test_mae': array([0.77015636, 0.78068167, 0.77901275, 0.78017449, 0.78069309]),\n",
       " 'fit_time': (0.4507937431335449,\n",
       "  0.385967493057251,\n",
       "  0.38796234130859375,\n",
       "  0.3849787712097168,\n",
       "  0.3839724063873291),\n",
       " 'test_time': (1.8350911140441895,\n",
       "  1.6585633754730225,\n",
       "  1.6386165618896484,\n",
       "  1.6934599876403809,\n",
       "  1.6735239028930664)}"
      ]
     },
     "execution_count": 10,
     "metadata": {},
     "output_type": "execute_result"
    }
   ],
   "source": [
    "#########---------------SVD\n",
    "print('')\n",
    "print('---------------SVD result-------------')\n",
    "\n",
    "algo = SVD()\n",
    "cross_validate(algo, data, measures=['RMSE', 'MAE'], cv=5, verbose=True)\n",
    "\n",
    "\n",
    "\n",
    "#########---------------PMF\n",
    "print('')\n",
    "print('---------------PMF result--------------')\n",
    "\n",
    "algo = SVD(biased=False)\n",
    "cross_validate(algo, data, measures=['RMSE', 'MAE'], cv=5, verbose=True)\n",
    "\n",
    "\n",
    "\n",
    "##########--------MSD------User Based Collaborative Filtering algorithm\n",
    "print('')\n",
    "print('15--Neighboors--User Based Collaborative Filtering algorithm result')\n",
    "\n",
    "algo = KNNBasic(k=10, sim_options = {'name':'MSD', 'user_based':True })\n",
    "cross_validate(algo, data, measures=['RMSE', 'MAE'], cv=5, verbose=True)\n",
    "\n"
   ]
  },
  {
   "cell_type": "code",
   "execution_count": null,
   "metadata": {},
   "outputs": [],
   "source": []
  }
 ],
 "metadata": {
  "kernelspec": {
   "display_name": "Python 3.7.6 64-bit ('base': conda)",
   "language": "python",
   "name": "python37664bitbaseconda149001a28adf404aa2405b7b6fbf039d"
  },
  "language_info": {
   "codemirror_mode": {
    "name": "ipython",
    "version": 3
   },
   "file_extension": ".py",
   "mimetype": "text/x-python",
   "name": "python",
   "nbconvert_exporter": "python",
   "pygments_lexer": "ipython3",
   "version": "3.7.6"
  },
  "toc": {
   "base_numbering": 1,
   "nav_menu": {},
   "number_sections": true,
   "sideBar": true,
   "skip_h1_title": false,
   "title_cell": "Table of Contents",
   "title_sidebar": "Contents",
   "toc_cell": false,
   "toc_position": {},
   "toc_section_display": true,
   "toc_window_display": false
  }
 },
 "nbformat": 4,
 "nbformat_minor": 4
}
